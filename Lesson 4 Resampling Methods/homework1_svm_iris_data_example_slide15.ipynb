{
 "cells": [
  {
   "cell_type": "code",
   "execution_count": 2,
   "metadata": {},
   "outputs": [],
   "source": [
    "# Step 1: Import necessary libraries \n",
    "from sklearn.model_selection import KFold\n",
    "from sklearn.datasets import load_iris \n",
    "from sklearn.svm import SVC \n",
    "from sklearn.metrics import accuracy_score \n"
   ]
  },
  {
   "cell_type": "code",
   "execution_count": 3,
   "metadata": {},
   "outputs": [
    {
     "name": "stdout",
     "output_type": "stream",
     "text": [
      "Cross-Validated Accuracy: 86.67%\n"
     ]
    }
   ],
   "source": [
    "# Step 2: Load the dataset \n",
    "iris = load_iris() \n",
    "X, y = iris.data, iris.target \n",
    "# Step 3: Create a classifier (Support Vector Machine) \n",
    "clf = SVC(kernel='linear') \n",
    "# Step 4: Define the number of folds for cross-validation \n",
    "kf = KFold(n_splits=5) \n",
    "# Step 5: Perform K-Fold Cross-Validation \n",
    "accuracies = [] \n",
    "for train_index, test_index in kf.split(X): \n",
    " X_train, X_test = X[train_index], X[test_index] \n",
    " y_train, y_test = y[train_index], y[test_index] \n",
    "# Train the model \n",
    "clf.fit(X_train, y_train) \n",
    "# Predict and evaluate \n",
    "y_pred = clf.predict(X_test) \n",
    "accuracies.append(accuracy_score(y_test, y_pred)) \n",
    "# Step 6: Evaluate model performance \n",
    "print(f\"Cross-Validated Accuracy: {sum(accuracies) / len(accuracies) * 100:.2f}%\") "
   ]
  }
 ],
 "metadata": {
  "kernelspec": {
   "display_name": "base",
   "language": "python",
   "name": "python3"
  },
  "language_info": {
   "codemirror_mode": {
    "name": "ipython",
    "version": 3
   },
   "file_extension": ".py",
   "mimetype": "text/x-python",
   "name": "python",
   "nbconvert_exporter": "python",
   "pygments_lexer": "ipython3",
   "version": "3.12.4"
  }
 },
 "nbformat": 4,
 "nbformat_minor": 2
}
